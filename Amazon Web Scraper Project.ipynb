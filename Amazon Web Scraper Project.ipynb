{
 "cells": [
  {
   "cell_type": "markdown",
   "id": "5e070a33",
   "metadata": {},
   "source": [
    "# Amazon Web Scraper Requirements: \n",
    "\n",
    "* Selenium\n",
    "* BeautifulSoup "
   ]
  },
  {
   "cell_type": "code",
   "execution_count": 86,
   "id": "f7a7e089",
   "metadata": {},
   "outputs": [],
   "source": [
    "import csv\n",
    "from bs4 import BeautifulSoup\n",
    "# for fireforx and chrome\n",
    "from selenium import webdriver"
   ]
  },
  {
   "cell_type": "code",
   "execution_count": 87,
   "id": "1fe08cea",
   "metadata": {},
   "outputs": [],
   "source": [
    "# starting up the driver\n",
    "driver = webdriver.Chrome()"
   ]
  },
  {
   "cell_type": "code",
   "execution_count": 88,
   "id": "dfa1e0fb",
   "metadata": {},
   "outputs": [],
   "source": [
    "# starting the AmazonIndia site in the driver page\n",
    "url = 'https://www.amazon.in/'\n",
    "driver.get(url)"
   ]
  },
  {
   "cell_type": "code",
   "execution_count": 89,
   "id": "05f28dc7",
   "metadata": {},
   "outputs": [],
   "source": [
    "def get_url(search_term):\n",
    "    \"\"\" This function will will take any text as an input and \n",
    "    provide an Amazon Seach link as an output \"\"\"\n",
    "    \n",
    "    base_link = 'https://www.amazon.in/s?k={}&crid=13LMAMNW5PMHP&sprefix=video+games%2Caps%2C229&ref=nb_sb_noss_1'\n",
    "    search_term = search_term.replace(' ','+')\n",
    "\n",
    "    return base_link.format(search_term)"
   ]
  },
  {
   "cell_type": "code",
   "execution_count": 91,
   "id": "d8566c38",
   "metadata": {
    "scrolled": true
   },
   "outputs": [
    {
     "name": "stdout",
     "output_type": "stream",
     "text": [
      "https://www.amazon.in/s?k=video+games+ps4&crid=13LMAMNW5PMHP&sprefix=video+games%2Caps%2C229&ref=nb_sb_noss_1\n"
     ]
    }
   ],
   "source": [
    "# checking out the function output\n",
    "url = get_url('video games ps4')\n",
    "print(url)"
   ]
  },
  {
   "cell_type": "code",
   "execution_count": 92,
   "id": "9f4e4844",
   "metadata": {},
   "outputs": [],
   "source": [
    "driver.get(url)"
   ]
  },
  {
   "cell_type": "markdown",
   "id": "61ee760c",
   "metadata": {},
   "source": [
    "# Extracting Content"
   ]
  },
  {
   "cell_type": "code",
   "execution_count": 93,
   "id": "c173edaf",
   "metadata": {},
   "outputs": [],
   "source": [
    "# accessing page source (inspect element) of the search result page\n",
    "soup = BeautifulSoup(driver.page_source, 'html.parser')"
   ]
  },
  {
   "cell_type": "code",
   "execution_count": 94,
   "id": "b5f9b38e",
   "metadata": {},
   "outputs": [],
   "source": [
    "# searching the individual element directory to access details\n",
    "results = soup.find_all('div', {'data-component-type':'s-search-result'})"
   ]
  },
  {
   "cell_type": "code",
   "execution_count": 95,
   "id": "c908088c",
   "metadata": {},
   "outputs": [
    {
     "data": {
      "text/plain": [
       "17"
      ]
     },
     "execution_count": 95,
     "metadata": {},
     "output_type": "execute_result"
    }
   ],
   "source": [
    "len(results)"
   ]
  },
  {
   "cell_type": "markdown",
   "id": "fbf40391",
   "metadata": {},
   "source": [
    "# Prototype the results"
   ]
  },
  {
   "cell_type": "code",
   "execution_count": 96,
   "id": "48fa9a99",
   "metadata": {},
   "outputs": [],
   "source": [
    "# selecting the first item in search result page\n",
    "item = results[0]"
   ]
  },
  {
   "cell_type": "code",
   "execution_count": 97,
   "id": "5dc9dfcf",
   "metadata": {},
   "outputs": [],
   "source": [
    "# filtering directory division of the first search result item in the page\n",
    "# to locate h2 tag which is the second-level heading on your webpage \n",
    "# aka description of the item\n",
    "atag = item.h2.a"
   ]
  },
  {
   "cell_type": "code",
   "execution_count": 98,
   "id": "4555269e",
   "metadata": {},
   "outputs": [
    {
     "name": "stdout",
     "output_type": "stream",
     "text": [
      "FIFA 23 | Standard Edition | PS4 (PlayStation 4)\n"
     ]
    }
   ],
   "source": [
    "description = atag.text.strip() # using strip to remove the whitespace in results\n",
    "print(description)"
   ]
  },
  {
   "cell_type": "code",
   "execution_count": 99,
   "id": "2343bd42",
   "metadata": {},
   "outputs": [],
   "source": [
    "# href attribute specifies/provide the URL of the item correlated with main result link\n",
    "url = 'http://amazon.in'+ atag.get('href')"
   ]
  },
  {
   "cell_type": "code",
   "execution_count": 100,
   "id": "c5a9b420",
   "metadata": {},
   "outputs": [
    {
     "name": "stdout",
     "output_type": "stream",
     "text": [
      "http://amazon.in/sspa/click?ie=UTF8&spc=MToxNTY0MjEyOTQ2MTAwMDcyOjE2NzE1MzA0MjM6c3BfYXRmOjIwMTAzMjMyNzMzNDk4OjowOjo&url=%2FFIFA-23-Standard-PS4-PlayStation%2Fdp%2FB0B7BD84V6%2Fref%3Dsr_1_1_sspa%3Fcrid%3D13LMAMNW5PMHP%26keywords%3Dvideo%2Bgames%2Bps4%26qid%3D1671530423%26sprefix%3Dvideo%2Bgames%252Caps%252C229%26sr%3D8-1-spons%26sp_csd%3Dd2lkZ2V0TmFtZT1zcF9hdGY%26psc%3D1\n"
     ]
    }
   ],
   "source": [
    "print(url)"
   ]
  },
  {
   "cell_type": "code",
   "execution_count": 101,
   "id": "1ba7b8a0",
   "metadata": {},
   "outputs": [
    {
     "name": "stdout",
     "output_type": "stream",
     "text": [
      "₹3,299\n"
     ]
    }
   ],
   "source": [
    "# filtering span division which is an inline container used to mark up a part of a text\n",
    "# to locate the price tag\n",
    "sale_price_parent = item.find('span','a-price')\n",
    "# finding the inner price tag text \n",
    "sale_price = sale_price_parent.find('span','a-offscreen').text\n",
    "print(sale_price)"
   ]
  },
  {
   "cell_type": "code",
   "execution_count": 102,
   "id": "4a6e75b8",
   "metadata": {},
   "outputs": [
    {
     "name": "stdout",
     "output_type": "stream",
     "text": [
      "₹4,299\n"
     ]
    }
   ],
   "source": [
    "# Using same division above to locate original price\n",
    "original_price_parent = item.find('span','a-price a-text-price')\n",
    "original_price = original_price_parent.find('span','a-offscreen').text\n",
    "print(original_price)"
   ]
  },
  {
   "cell_type": "code",
   "execution_count": 103,
   "id": "88126d91",
   "metadata": {},
   "outputs": [
    {
     "name": "stdout",
     "output_type": "stream",
     "text": [
      "4.7\n"
     ]
    }
   ],
   "source": [
    "# locating the rating in i class\n",
    "rating = item.i.text\n",
    "print(rating[:3])"
   ]
  },
  {
   "cell_type": "code",
   "execution_count": 104,
   "id": "dfc42cee",
   "metadata": {},
   "outputs": [
    {
     "name": "stdout",
     "output_type": "stream",
     "text": [
      "84\n"
     ]
    }
   ],
   "source": [
    "# locating number of reviews in span division\n",
    "reviews = item.find('span', {'class':'a-size-base s-underline-text'}).text\n",
    "print(reviews)"
   ]
  },
  {
   "cell_type": "markdown",
   "id": "316849d2",
   "metadata": {},
   "source": [
    "# Generalizing the pattern"
   ]
  },
  {
   "cell_type": "code",
   "execution_count": 106,
   "id": "a38e2f11",
   "metadata": {},
   "outputs": [],
   "source": [
    "def extract_records(item):\n",
    "    \n",
    "    \"\"\"Extract Data from single search result\"\"\"\n",
    "    \n",
    "    # description and url\n",
    "    atag = item.h2.a\n",
    "    description = atag.text.strip()\n",
    "    url = 'http://amazon.in'+ atag.get('href')\n",
    "      \n",
    "    # Using Try & except statement to avoid AttributeError as \n",
    "    # there can be items in the search list with blank data\n",
    "    # which can result in extaction failure \n",
    "    \n",
    "    # sale and original price\n",
    "    try:\n",
    "        sale_price_parent = item.find('span','a-price')\n",
    "        sale_price = sale_price_parent.find('span','a-offscreen').text\n",
    "        original_price_parent = item.find('span','a-price a-text-price')\n",
    "        original_price = original_price_parent.find('span','a-offscreen').text\n",
    "    except AttributeError:\n",
    "        return\n",
    "    \n",
    "    # rating and reviews\n",
    "    try:\n",
    "        rating = item.i.text\n",
    "        reviews = item.find('span', {'class':'a-size-base s-underline-text'}).text\n",
    "    except AttributeError:\n",
    "        rating = ''\n",
    "        reviews = ''\n",
    "        \n",
    "    # storing all search results in a tuple\n",
    "    result = (description, original_price, sale_price, rating[:3], reviews, url)\n",
    "    \n",
    "    return result"
   ]
  },
  {
   "cell_type": "code",
   "execution_count": 116,
   "id": "866b30d2",
   "metadata": {},
   "outputs": [],
   "source": [
    "# now extracting the data from all the search results via loop\n",
    "\n",
    "records = []\n",
    "results = soup.find_all('div', {'data-component-type':'s-search-result'})\n",
    "for item in results:\n",
    "    record = extract_records(item)\n",
    "    if record:\n",
    "        records.append(record)"
   ]
  },
  {
   "cell_type": "code",
   "execution_count": 117,
   "id": "f4f3e5c7",
   "metadata": {},
   "outputs": [
    {
     "name": "stdout",
     "output_type": "stream",
     "text": [
      "('FIFA 23 | Standard Edition | PS4 (PlayStation 4)', '₹4,299', '₹3,299', '4.7', '84', 'http://amazon.in/sspa/click?ie=UTF8&spc=MToxNTY0MjEyOTQ2MTAwMDcyOjE2NzE1MzA0MjM6c3BfYXRmOjIwMTAzMjMyNzMzNDk4OjowOjo&url=%2FFIFA-23-Standard-PS4-PlayStation%2Fdp%2FB0B7BD84V6%2Fref%3Dsr_1_1_sspa%3Fcrid%3D13LMAMNW5PMHP%26keywords%3Dvideo%2Bgames%2Bps4%26qid%3D1671530423%26sprefix%3Dvideo%2Bgames%252Caps%252C229%26sr%3D8-1-spons%26sp_csd%3Dd2lkZ2V0TmFtZT1zcF9hdGY%26psc%3D1')\n"
     ]
    }
   ],
   "source": [
    "print(records[0])"
   ]
  },
  {
   "cell_type": "markdown",
   "id": "807ebe91",
   "metadata": {},
   "source": [
    "# Putting Everything up in One with Master_Function"
   ]
  },
  {
   "cell_type": "code",
   "execution_count": 143,
   "id": "32604ce5",
   "metadata": {},
   "outputs": [],
   "source": [
    "import csv\n",
    "from bs4 import BeautifulSoup\n",
    "# for fireforx and chrome\n",
    "from selenium import webdriver\n",
    "\n",
    "#----------------------------------------------------------------------------------------------------\n",
    "def get_url(search_term):\n",
    "    \"\"\" This function will will take any text as an input and \n",
    "    provide an Amazon Seach link as an output \"\"\"\n",
    "    \n",
    "    base_link = 'https://www.amazon.in/s?k={}&crid=13LMAMNW5PMHP&sprefix=video+games%2Caps%2C229&ref=nb_sb_noss_1'\n",
    "    search_term = search_term.replace(' ','+')\n",
    "    \n",
    "    # add query to url\n",
    "    url = base_link.format(search_term)\n",
    "    # add page query placeholder\n",
    "    url+='&page={}'\n",
    "    \n",
    "    return url\n",
    "#-----------------------------------------------------------------------------------------------------\n",
    "def extract_records(item):\n",
    "    \n",
    "    \"\"\"Extract Data from single search result\"\"\"\n",
    "    \n",
    "    # description and url\n",
    "    atag = item.h2.a\n",
    "    description = atag.text.strip()\n",
    "    url = 'http://amazon.in'+ atag.get('href')\n",
    "      \n",
    "    # Using Try & except statement to avoid AttributeError as \n",
    "    # there can be items in the search list with blank data\n",
    "    # which can result in extaction failure \n",
    "    \n",
    "    # sale and original price\n",
    "    try:\n",
    "        sale_price_parent = item.find('span','a-price')\n",
    "        sale_price = sale_price_parent.find('span','a-offscreen').text\n",
    "        original_price_parent = item.find('span','a-price a-text-price')\n",
    "        original_price = original_price_parent.find('span','a-offscreen').text\n",
    "    except AttributeError:\n",
    "        return\n",
    "    \n",
    "    # rating and reviews\n",
    "    try:\n",
    "        rating = item.i.text\n",
    "        reviews = item.find('span', {'class':'a-size-base s-underline-text'}).text\n",
    "    except AttributeError:\n",
    "        rating = ''\n",
    "        reviews = ''\n",
    "        \n",
    "    # storing all search results in a tuple\n",
    "    result = (description, original_price, sale_price, rating[:3], reviews, url)\n",
    "    \n",
    "    return result\n",
    "#-----------------------------------------------------------------------------------------------------\n",
    "def main(search_term):\n",
    "    \"\"\"Run main program routine\"\"\"\n",
    "    # starting up the driver\n",
    "    driver = webdriver.Chrome()\n",
    "    \n",
    "    records = []\n",
    "    url = get_url(search_term)\n",
    "    \n",
    "    for page in range(1, 21):\n",
    "        driver.get(url.format(page))\n",
    "        soup = BeautifulSoup(driver.page_source, 'html.parser')\n",
    "        results = soup.find_all('div', {'data-component-type':'s-search-result'})\n",
    "        \n",
    "        for item in results:\n",
    "            record = extract_records(item)\n",
    "            if record:\n",
    "                records.append(record)\n",
    "                \n",
    "    driver.close()\n",
    "    \n",
    "    # save data to a csv file  \n",
    "    with open ('AMZ_WebScrap_data.csv', mode='w', newline='', encoding='utf-8') as file:\n",
    "        writer = csv.writer(file)\n",
    "        writer.writerow(['Description', 'Original_Price', 'Sale_Price', 'Rating', 'Review_count', 'URL'])\n",
    "        for row in records:\n",
    "            writer.writerow(row)"
   ]
  },
  {
   "cell_type": "code",
   "execution_count": 144,
   "id": "a443be80",
   "metadata": {},
   "outputs": [],
   "source": [
    "main('games ps4')"
   ]
  },
  {
   "cell_type": "code",
   "execution_count": null,
   "id": "5801b60f",
   "metadata": {},
   "outputs": [],
   "source": []
  }
 ],
 "metadata": {
  "kernelspec": {
   "display_name": ".venv",
   "language": "python",
   "name": "python3"
  },
  "language_info": {
   "codemirror_mode": {
    "name": "ipython",
    "version": 3
   },
   "file_extension": ".py",
   "mimetype": "text/x-python",
   "name": "python",
   "nbconvert_exporter": "python",
   "pygments_lexer": "ipython3",
   "version": "3.11.1 (tags/v3.11.1:a7a450f, Dec  6 2022, 19:58:39) [MSC v.1934 64 bit (AMD64)]"
  },
  "vscode": {
   "interpreter": {
    "hash": "cd17a36b3a77e0287cad705fc3fcf889d08abc2e55fb6c85132874f099765d37"
   }
  }
 },
 "nbformat": 4,
 "nbformat_minor": 5
}
